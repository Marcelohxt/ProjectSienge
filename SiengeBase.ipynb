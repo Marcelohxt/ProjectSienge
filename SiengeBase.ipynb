{
 "cells": [
  {
   "cell_type": "markdown",
   "id": "554e5374-f5f6-4f3c-8c05-f5afe2265e5c",
   "metadata": {},
   "source": [
    "Projetc"
   ]
  },
  {
   "cell_type": "code",
   "execution_count": 1,
   "id": "906f547d-5686-41cd-ae3c-ba5a0fb39a9a",
   "metadata": {},
   "outputs": [],
   "source": [
    "import math\n",
    "import sys, os\n",
    "import numpy as np\n",
    "import pandas as pd\n",
    "import openpyxl "
   ]
  },
  {
   "cell_type": "code",
   "execution_count": 7,
   "id": "8bb6c99d-44ea-454f-a8db-2720d7448e62",
   "metadata": {},
   "outputs": [],
   "source": [
    "\n",
    "sys.path.append(os.path.abspath(os.path.join('modulos')))\n",
    "from estrategia1 import * # o Asteriscos importa tudo que estra dentro no Modulo! \n",
    "from estrategia2 import * # o Asteriscos importa tudo que estra dentro no Modulo! \n",
    "from estrategia3 import * # o Asteriscos importa tudo que estra dentro no Modulo! \n",
    "from openpyxl import load_workbook\n"
   ]
  },
  {
   "cell_type": "code",
   "execution_count": 12,
   "id": "30873086-73dd-4e50-a321-d350bba4b072",
   "metadata": {},
   "outputs": [],
   "source": [
    "pd.set_option('display.max_columns', 50)"
   ]
  },
  {
   "cell_type": "markdown",
   "id": "fd259127-1083-4d85-921d-bbe8fe727d54",
   "metadata": {},
   "source": [
    "## Carregando os Dados\n",
    "\n",
    "https://pandas.pydata.org/docs/reference/api/pandas.read_csv.html"
   ]
  },
  {
   "cell_type": "code",
   "execution_count": 127,
   "id": "f6180411-a2c9-44eb-bfe4-670bbf90d71d",
   "metadata": {},
   "outputs": [],
   "source": [
    "# Criamos uma lista para identificar valores ausentes\n",
    "lista_labels_valores_ausentes = [\"n/a\", \"na\", \"NaN\", \"undefined\"]"
   ]
  },
  {
   "cell_type": "code",
   "execution_count": 129,
   "id": "403f1822-e1a0-4078-93b2-b5e8677a72d4",
   "metadata": {},
   "outputs": [],
   "source": [
    "# Criamos uma lista para identificar valores ausentes\n",
    "dataset = pd.read_csv('DashboardGestaoObra.csv', sep=';', na_values=func_calc_percentual_valores_ausentes)\n"
   ]
  },
  {
   "cell_type": "code",
   "execution_count": 131,
   "id": "0d11a3f1-f504-4bc3-97ec-d347d7b677c0",
   "metadata": {},
   "outputs": [
    {
     "data": {
      "text/plain": [
       "(487, 12)"
      ]
     },
     "execution_count": 131,
     "metadata": {},
     "output_type": "execute_result"
    }
   ],
   "source": [
    "dataset.shape"
   ]
  },
  {
   "cell_type": "code",
   "execution_count": 133,
   "id": "af64a766-421d-4fcd-8a3e-b2355bd6121a",
   "metadata": {},
   "outputs": [
    {
     "data": {
      "text/html": [
       "<div>\n",
       "<style scoped>\n",
       "    .dataframe tbody tr th:only-of-type {\n",
       "        vertical-align: middle;\n",
       "    }\n",
       "\n",
       "    .dataframe tbody tr th {\n",
       "        vertical-align: top;\n",
       "    }\n",
       "\n",
       "    .dataframe thead th {\n",
       "        text-align: right;\n",
       "    }\n",
       "</style>\n",
       "<table border=\"1\" class=\"dataframe\">\n",
       "  <thead>\n",
       "    <tr style=\"text-align: right;\">\n",
       "      <th></th>\n",
       "      <th>Tarefa</th>\n",
       "      <th>Quant. planejada</th>\n",
       "      <th>Unidade</th>\n",
       "      <th>Duração (dias)</th>\n",
       "      <th>Início</th>\n",
       "      <th>Término</th>\n",
       "      <th>Previsto</th>\n",
       "      <th>Valor previsto</th>\n",
       "      <th>Medido</th>\n",
       "      <th>Valor medido</th>\n",
       "      <th>IDP</th>\n",
       "      <th>Status</th>\n",
       "    </tr>\n",
       "  </thead>\n",
       "  <tbody>\n",
       "    <tr>\n",
       "      <th>0</th>\n",
       "      <td>1 - OBRA DE INFRAESTRUTURA</td>\n",
       "      <td>NaN</td>\n",
       "      <td>NaN</td>\n",
       "      <td>638.0</td>\n",
       "      <td>03/04/2023</td>\n",
       "      <td>30/09/2025</td>\n",
       "      <td>90,75%</td>\n",
       "      <td>R$ 16.830.985,15</td>\n",
       "      <td>92,81%</td>\n",
       "      <td>R$ 17.212.824,78</td>\n",
       "      <td>1,02</td>\n",
       "      <td>Em dia</td>\n",
       "    </tr>\n",
       "    <tr>\n",
       "      <th>1</th>\n",
       "      <td>2 - ADMINISTRAÇÃO DA OBRA</td>\n",
       "      <td>NaN</td>\n",
       "      <td>NaN</td>\n",
       "      <td>107.0</td>\n",
       "      <td>01/06/2023</td>\n",
       "      <td>31/10/2023</td>\n",
       "      <td>100,00%</td>\n",
       "      <td>R$ 687.889,44</td>\n",
       "      <td>100,00%</td>\n",
       "      <td>R$ 687.889,44</td>\n",
       "      <td>1,00</td>\n",
       "      <td>Concluído</td>\n",
       "    </tr>\n",
       "    <tr>\n",
       "      <th>2</th>\n",
       "      <td>3 - EQUIPE DE CAMPO</td>\n",
       "      <td>NaN</td>\n",
       "      <td>NaN</td>\n",
       "      <td>107.0</td>\n",
       "      <td>01/06/2023</td>\n",
       "      <td>31/10/2023</td>\n",
       "      <td>100,00%</td>\n",
       "      <td>R$ 687.889,44</td>\n",
       "      <td>100,00%</td>\n",
       "      <td>R$ 687.889,44</td>\n",
       "      <td>1,00</td>\n",
       "      <td>Concluído</td>\n",
       "    </tr>\n",
       "    <tr>\n",
       "      <th>3</th>\n",
       "      <td>4 - Gerente de obra (GO)</td>\n",
       "      <td>6,0000</td>\n",
       "      <td>vb</td>\n",
       "      <td>107.0</td>\n",
       "      <td>01/06/2023</td>\n",
       "      <td>31/10/2023</td>\n",
       "      <td>100,00%</td>\n",
       "      <td>R$ 196.939,44</td>\n",
       "      <td>100,00%</td>\n",
       "      <td>R$ 196.939,44</td>\n",
       "      <td>1,00</td>\n",
       "      <td>Concluído</td>\n",
       "    </tr>\n",
       "    <tr>\n",
       "      <th>4</th>\n",
       "      <td>5 - Mestre de obras</td>\n",
       "      <td>6,0000</td>\n",
       "      <td>vb</td>\n",
       "      <td>107.0</td>\n",
       "      <td>01/06/2023</td>\n",
       "      <td>31/10/2023</td>\n",
       "      <td>100,00%</td>\n",
       "      <td>R$ 185.986,38</td>\n",
       "      <td>100,00%</td>\n",
       "      <td>R$ 185.986,38</td>\n",
       "      <td>1,00</td>\n",
       "      <td>Concluído</td>\n",
       "    </tr>\n",
       "  </tbody>\n",
       "</table>\n",
       "</div>"
      ],
      "text/plain": [
       "                       Tarefa Quant. planejada Unidade  Duração (dias)  \\\n",
       "0  1 - OBRA DE INFRAESTRUTURA              NaN     NaN           638.0   \n",
       "1   2 - ADMINISTRAÇÃO DA OBRA              NaN     NaN           107.0   \n",
       "2         3 - EQUIPE DE CAMPO              NaN     NaN           107.0   \n",
       "3    4 - Gerente de obra (GO)           6,0000      vb           107.0   \n",
       "4         5 - Mestre de obras           6,0000      vb           107.0   \n",
       "\n",
       "       Início     Término Previsto    Valor previsto   Medido  \\\n",
       "0  03/04/2023  30/09/2025   90,75%  R$ 16.830.985,15   92,81%   \n",
       "1  01/06/2023  31/10/2023  100,00%     R$ 687.889,44  100,00%   \n",
       "2  01/06/2023  31/10/2023  100,00%     R$ 687.889,44  100,00%   \n",
       "3  01/06/2023  31/10/2023  100,00%     R$ 196.939,44  100,00%   \n",
       "4  01/06/2023  31/10/2023  100,00%     R$ 185.986,38  100,00%   \n",
       "\n",
       "       Valor medido   IDP     Status  \n",
       "0  R$ 17.212.824,78  1,02     Em dia  \n",
       "1     R$ 687.889,44  1,00  Concluído  \n",
       "2     R$ 687.889,44  1,00  Concluído  \n",
       "3     R$ 196.939,44  1,00  Concluído  \n",
       "4     R$ 185.986,38  1,00  Concluído  "
      ]
     },
     "execution_count": 133,
     "metadata": {},
     "output_type": "execute_result"
    }
   ],
   "source": [
    "dataset.head()"
   ]
  },
  {
   "cell_type": "markdown",
   "id": "4b5bc596-31cc-46c8-9902-2da90aad3853",
   "metadata": {},
   "source": [
    "## Análise Exploratória"
   ]
  },
  {
   "cell_type": "code",
   "execution_count": 136,
   "id": "bc9fc144-6afe-4a2b-a756-213aa911f760",
   "metadata": {},
   "outputs": [
    {
     "name": "stdout",
     "output_type": "stream",
     "text": [
      "<class 'pandas.core.frame.DataFrame'>\n",
      "RangeIndex: 487 entries, 0 to 486\n",
      "Data columns (total 12 columns):\n",
      " #   Column            Non-Null Count  Dtype  \n",
      "---  ------            --------------  -----  \n",
      " 0   Tarefa            487 non-null    object \n",
      " 1   Quant. planejada  351 non-null    object \n",
      " 2   Unidade           351 non-null    object \n",
      " 3   Duração (dias)    486 non-null    float64\n",
      " 4   Início            486 non-null    object \n",
      " 5   Término           486 non-null    object \n",
      " 6   Previsto          487 non-null    object \n",
      " 7   Valor previsto    379 non-null    object \n",
      " 8   Medido            487 non-null    object \n",
      " 9   Valor medido      331 non-null    object \n",
      " 10  IDP               487 non-null    object \n",
      " 11  Status            487 non-null    object \n",
      "dtypes: float64(1), object(11)\n",
      "memory usage: 45.8+ KB\n"
     ]
    }
   ],
   "source": [
    "dataset.info()"
   ]
  },
  {
   "cell_type": "code",
   "execution_count": 138,
   "id": "92cb3136-c5a8-4b4e-a65a-8112a9e5c55e",
   "metadata": {},
   "outputs": [
    {
     "data": {
      "text/html": [
       "<div>\n",
       "<style scoped>\n",
       "    .dataframe tbody tr th:only-of-type {\n",
       "        vertical-align: middle;\n",
       "    }\n",
       "\n",
       "    .dataframe tbody tr th {\n",
       "        vertical-align: top;\n",
       "    }\n",
       "\n",
       "    .dataframe thead th {\n",
       "        text-align: right;\n",
       "    }\n",
       "</style>\n",
       "<table border=\"1\" class=\"dataframe\">\n",
       "  <thead>\n",
       "    <tr style=\"text-align: right;\">\n",
       "      <th></th>\n",
       "      <th>Duração (dias)</th>\n",
       "    </tr>\n",
       "  </thead>\n",
       "  <tbody>\n",
       "    <tr>\n",
       "      <th>count</th>\n",
       "      <td>486.000000</td>\n",
       "    </tr>\n",
       "    <tr>\n",
       "      <th>mean</th>\n",
       "      <td>255.897119</td>\n",
       "    </tr>\n",
       "    <tr>\n",
       "      <th>std</th>\n",
       "      <td>167.683679</td>\n",
       "    </tr>\n",
       "    <tr>\n",
       "      <th>min</th>\n",
       "      <td>6.000000</td>\n",
       "    </tr>\n",
       "    <tr>\n",
       "      <th>25%</th>\n",
       "      <td>107.000000</td>\n",
       "    </tr>\n",
       "    <tr>\n",
       "      <th>50%</th>\n",
       "      <td>255.500000</td>\n",
       "    </tr>\n",
       "    <tr>\n",
       "      <th>75%</th>\n",
       "      <td>354.000000</td>\n",
       "    </tr>\n",
       "    <tr>\n",
       "      <th>max</th>\n",
       "      <td>816.000000</td>\n",
       "    </tr>\n",
       "  </tbody>\n",
       "</table>\n",
       "</div>"
      ],
      "text/plain": [
       "       Duração (dias)\n",
       "count      486.000000\n",
       "mean       255.897119\n",
       "std        167.683679\n",
       "min          6.000000\n",
       "25%        107.000000\n",
       "50%        255.500000\n",
       "75%        354.000000\n",
       "max        816.000000"
      ]
     },
     "execution_count": 138,
     "metadata": {},
     "output_type": "execute_result"
    }
   ],
   "source": [
    "dataset.describe()"
   ]
  },
  {
   "cell_type": "code",
   "execution_count": 140,
   "id": "a8e225f6-4dda-43d9-98e9-2bf120247f31",
   "metadata": {},
   "outputs": [
    {
     "data": {
      "text/plain": [
       "(487, 12)"
      ]
     },
     "execution_count": 140,
     "metadata": {},
     "output_type": "execute_result"
    }
   ],
   "source": [
    "dataset.shape"
   ]
  },
  {
   "cell_type": "code",
   "execution_count": 142,
   "id": "8386a041-f1ba-4ffd-b480-92558b434b1d",
   "metadata": {},
   "outputs": [
    {
     "data": {
      "text/plain": [
       "['Tarefa',\n",
       " 'Quant. planejada',\n",
       " 'Unidade',\n",
       " 'Duração (dias)',\n",
       " 'Início',\n",
       " 'Término',\n",
       " 'Previsto',\n",
       " 'Valor previsto',\n",
       " 'Medido',\n",
       " 'Valor medido',\n",
       " 'IDP',\n",
       " 'Status']"
      ]
     },
     "execution_count": 142,
     "metadata": {},
     "output_type": "execute_result"
    }
   ],
   "source": [
    "dataset.columns.tolist()"
   ]
  },
  {
   "cell_type": "code",
   "execution_count": 144,
   "id": "a47928ab-91b6-4a64-8b24-4ed8c9f5e511",
   "metadata": {},
   "outputs": [
    {
     "name": "stdout",
     "output_type": "stream",
     "text": [
      "O dataset tem 9.22 % de valores ausentes.\n"
     ]
    }
   ],
   "source": [
    "# Verifica o percentual de valores ausentes\n",
    "# Função do módulo estratégia 1\n",
    "func_calc_percentual_valores_ausentes(dataset)"
   ]
  },
  {
   "cell_type": "code",
   "execution_count": 146,
   "id": "a23e9fde-4321-429c-8ad1-4ca1e74baaed",
   "metadata": {},
   "outputs": [
    {
     "name": "stdout",
     "output_type": "stream",
     "text": [
      "O dataset tem 12 colunas.\n",
      "Encontrado: 7 colunas que têm valores ausentes.\n"
     ]
    }
   ],
   "source": [
    "# Cria tabela com valores ausentes\n",
    "df_missing = func_calc_percentual_valores_ausentes_coluna(dataset)"
   ]
  },
  {
   "cell_type": "code",
   "execution_count": 148,
   "id": "252140cd-6616-4dbf-8e2a-b84e31cb0a40",
   "metadata": {},
   "outputs": [
    {
     "data": {
      "text/html": [
       "<div>\n",
       "<style scoped>\n",
       "    .dataframe tbody tr th:only-of-type {\n",
       "        vertical-align: middle;\n",
       "    }\n",
       "\n",
       "    .dataframe tbody tr th {\n",
       "        vertical-align: top;\n",
       "    }\n",
       "\n",
       "    .dataframe thead th {\n",
       "        text-align: right;\n",
       "    }\n",
       "</style>\n",
       "<table border=\"1\" class=\"dataframe\">\n",
       "  <thead>\n",
       "    <tr style=\"text-align: right;\">\n",
       "      <th></th>\n",
       "      <th>Valores Ausentes</th>\n",
       "      <th>% de Valores Ausentes</th>\n",
       "      <th>Dtype</th>\n",
       "    </tr>\n",
       "  </thead>\n",
       "  <tbody>\n",
       "    <tr>\n",
       "      <th>Valor medido</th>\n",
       "      <td>156</td>\n",
       "      <td>32.03</td>\n",
       "      <td>object</td>\n",
       "    </tr>\n",
       "    <tr>\n",
       "      <th>Quant. planejada</th>\n",
       "      <td>136</td>\n",
       "      <td>27.93</td>\n",
       "      <td>object</td>\n",
       "    </tr>\n",
       "    <tr>\n",
       "      <th>Unidade</th>\n",
       "      <td>136</td>\n",
       "      <td>27.93</td>\n",
       "      <td>object</td>\n",
       "    </tr>\n",
       "    <tr>\n",
       "      <th>Valor previsto</th>\n",
       "      <td>108</td>\n",
       "      <td>22.18</td>\n",
       "      <td>object</td>\n",
       "    </tr>\n",
       "    <tr>\n",
       "      <th>Duração (dias)</th>\n",
       "      <td>1</td>\n",
       "      <td>0.21</td>\n",
       "      <td>float64</td>\n",
       "    </tr>\n",
       "    <tr>\n",
       "      <th>Início</th>\n",
       "      <td>1</td>\n",
       "      <td>0.21</td>\n",
       "      <td>object</td>\n",
       "    </tr>\n",
       "    <tr>\n",
       "      <th>Término</th>\n",
       "      <td>1</td>\n",
       "      <td>0.21</td>\n",
       "      <td>object</td>\n",
       "    </tr>\n",
       "  </tbody>\n",
       "</table>\n",
       "</div>"
      ],
      "text/plain": [
       "                  Valores Ausentes  % de Valores Ausentes    Dtype\n",
       "Valor medido                   156                  32.03   object\n",
       "Quant. planejada               136                  27.93   object\n",
       "Unidade                        136                  27.93   object\n",
       "Valor previsto                 108                  22.18   object\n",
       "Duração (dias)                   1                   0.21  float64\n",
       "Início                           1                   0.21   object\n",
       "Término                          1                   0.21   object"
      ]
     },
     "execution_count": 148,
     "metadata": {},
     "output_type": "execute_result"
    }
   ],
   "source": [
    "df_missing"
   ]
  },
  {
   "cell_type": "code",
   "execution_count": 150,
   "id": "013bc661-94e9-45e2-a8ff-c86136332cb4",
   "metadata": {},
   "outputs": [],
   "source": [
    "colunas_para_remover = df_missing[df_missing['% de Valores Ausentes'] >= 30.00].index.tolist()"
   ]
  },
  {
   "cell_type": "code",
   "execution_count": 152,
   "id": "ac598276-dc80-4b7a-9b08-974a233eb4e4",
   "metadata": {},
   "outputs": [
    {
     "data": {
      "text/plain": [
       "['Valor medido']"
      ]
     },
     "execution_count": 152,
     "metadata": {},
     "output_type": "execute_result"
    }
   ],
   "source": [
    "colunas_para_remover"
   ]
  },
  {
   "cell_type": "code",
   "execution_count": 154,
   "id": "8465547b-565b-4df4-80ff-ebe35595d800",
   "metadata": {},
   "outputs": [],
   "source": [
    "colunas_para_remover = [col for col in colunas_para_remover if col not in ['Valor medido']]"
   ]
  },
  {
   "cell_type": "code",
   "execution_count": 156,
   "id": "71cf6505-f747-43de-a03c-552f7ed7d9da",
   "metadata": {},
   "outputs": [
    {
     "data": {
      "text/plain": [
       "[]"
      ]
     },
     "execution_count": 156,
     "metadata": {},
     "output_type": "execute_result"
    }
   ],
   "source": [
    "colunas_para_remover"
   ]
  },
  {
   "cell_type": "code",
   "execution_count": 158,
   "id": "148eef11-929a-4957-b5f2-840f37d5fc1e",
   "metadata": {},
   "outputs": [],
   "source": [
    "dataset_clean = dataset.drop(colunas_para_remover, axis = 1)"
   ]
  },
  {
   "cell_type": "code",
   "execution_count": 160,
   "id": "949f9bc7-3d16-450e-a2d9-57a9236f5782",
   "metadata": {},
   "outputs": [
    {
     "data": {
      "text/plain": [
       "(487, 12)"
      ]
     },
     "execution_count": 160,
     "metadata": {},
     "output_type": "execute_result"
    }
   ],
   "source": [
    "dataset_clean.shape"
   ]
  },
  {
   "cell_type": "code",
   "execution_count": 162,
   "id": "a60aafc7-9412-41ef-a1aa-5725c0e2a9a1",
   "metadata": {},
   "outputs": [
    {
     "name": "stdout",
     "output_type": "stream",
     "text": [
      "O dataset tem 9.22 % de valores ausentes.\n"
     ]
    }
   ],
   "source": [
    "func_calc_percentual_valores_ausentes(dataset_clean)"
   ]
  },
  {
   "cell_type": "code",
   "execution_count": 164,
   "id": "03e526c5-ec3d-47c4-98b3-7ccdc6912107",
   "metadata": {},
   "outputs": [
    {
     "name": "stdout",
     "output_type": "stream",
     "text": [
      "O dataset tem 12 colunas.\n",
      "Encontrado: 7 colunas que têm valores ausentes.\n"
     ]
    },
    {
     "data": {
      "text/html": [
       "<div>\n",
       "<style scoped>\n",
       "    .dataframe tbody tr th:only-of-type {\n",
       "        vertical-align: middle;\n",
       "    }\n",
       "\n",
       "    .dataframe tbody tr th {\n",
       "        vertical-align: top;\n",
       "    }\n",
       "\n",
       "    .dataframe thead th {\n",
       "        text-align: right;\n",
       "    }\n",
       "</style>\n",
       "<table border=\"1\" class=\"dataframe\">\n",
       "  <thead>\n",
       "    <tr style=\"text-align: right;\">\n",
       "      <th></th>\n",
       "      <th>Valores Ausentes</th>\n",
       "      <th>% de Valores Ausentes</th>\n",
       "      <th>Dtype</th>\n",
       "    </tr>\n",
       "  </thead>\n",
       "  <tbody>\n",
       "    <tr>\n",
       "      <th>Valor medido</th>\n",
       "      <td>156</td>\n",
       "      <td>32.03</td>\n",
       "      <td>object</td>\n",
       "    </tr>\n",
       "    <tr>\n",
       "      <th>Quant. planejada</th>\n",
       "      <td>136</td>\n",
       "      <td>27.93</td>\n",
       "      <td>object</td>\n",
       "    </tr>\n",
       "    <tr>\n",
       "      <th>Unidade</th>\n",
       "      <td>136</td>\n",
       "      <td>27.93</td>\n",
       "      <td>object</td>\n",
       "    </tr>\n",
       "    <tr>\n",
       "      <th>Valor previsto</th>\n",
       "      <td>108</td>\n",
       "      <td>22.18</td>\n",
       "      <td>object</td>\n",
       "    </tr>\n",
       "    <tr>\n",
       "      <th>Duração (dias)</th>\n",
       "      <td>1</td>\n",
       "      <td>0.21</td>\n",
       "      <td>float64</td>\n",
       "    </tr>\n",
       "    <tr>\n",
       "      <th>Início</th>\n",
       "      <td>1</td>\n",
       "      <td>0.21</td>\n",
       "      <td>object</td>\n",
       "    </tr>\n",
       "    <tr>\n",
       "      <th>Término</th>\n",
       "      <td>1</td>\n",
       "      <td>0.21</td>\n",
       "      <td>object</td>\n",
       "    </tr>\n",
       "  </tbody>\n",
       "</table>\n",
       "</div>"
      ],
      "text/plain": [
       "                  Valores Ausentes  % de Valores Ausentes    Dtype\n",
       "Valor medido                   156                  32.03   object\n",
       "Quant. planejada               136                  27.93   object\n",
       "Unidade                        136                  27.93   object\n",
       "Valor previsto                 108                  22.18   object\n",
       "Duração (dias)                   1                   0.21  float64\n",
       "Início                           1                   0.21   object\n",
       "Término                          1                   0.21   object"
      ]
     },
     "execution_count": 164,
     "metadata": {},
     "output_type": "execute_result"
    }
   ],
   "source": [
    "func_calc_percentual_valores_ausentes_coluna(dataset_clean)"
   ]
  },
  {
   "cell_type": "code",
   "execution_count": 166,
   "id": "bb629e8d-2d31-43d3-b831-93049b9cdae3",
   "metadata": {},
   "outputs": [
    {
     "data": {
      "text/html": [
       "<div>\n",
       "<style scoped>\n",
       "    .dataframe tbody tr th:only-of-type {\n",
       "        vertical-align: middle;\n",
       "    }\n",
       "\n",
       "    .dataframe tbody tr th {\n",
       "        vertical-align: top;\n",
       "    }\n",
       "\n",
       "    .dataframe thead th {\n",
       "        text-align: right;\n",
       "    }\n",
       "</style>\n",
       "<table border=\"1\" class=\"dataframe\">\n",
       "  <thead>\n",
       "    <tr style=\"text-align: right;\">\n",
       "      <th></th>\n",
       "      <th>Tarefa</th>\n",
       "      <th>Quant. planejada</th>\n",
       "      <th>Unidade</th>\n",
       "      <th>Duração (dias)</th>\n",
       "      <th>Início</th>\n",
       "      <th>Término</th>\n",
       "      <th>Previsto</th>\n",
       "      <th>Valor previsto</th>\n",
       "      <th>Medido</th>\n",
       "      <th>Valor medido</th>\n",
       "      <th>IDP</th>\n",
       "      <th>Status</th>\n",
       "    </tr>\n",
       "  </thead>\n",
       "  <tbody>\n",
       "    <tr>\n",
       "      <th>0</th>\n",
       "      <td>1 - OBRA DE INFRAESTRUTURA</td>\n",
       "      <td>NaN</td>\n",
       "      <td>NaN</td>\n",
       "      <td>638.0</td>\n",
       "      <td>03/04/2023</td>\n",
       "      <td>30/09/2025</td>\n",
       "      <td>90,75%</td>\n",
       "      <td>R$ 16.830.985,15</td>\n",
       "      <td>92,81%</td>\n",
       "      <td>R$ 17.212.824,78</td>\n",
       "      <td>1,02</td>\n",
       "      <td>Em dia</td>\n",
       "    </tr>\n",
       "    <tr>\n",
       "      <th>1</th>\n",
       "      <td>2 - ADMINISTRAÇÃO DA OBRA</td>\n",
       "      <td>NaN</td>\n",
       "      <td>NaN</td>\n",
       "      <td>107.0</td>\n",
       "      <td>01/06/2023</td>\n",
       "      <td>31/10/2023</td>\n",
       "      <td>100,00%</td>\n",
       "      <td>R$ 687.889,44</td>\n",
       "      <td>100,00%</td>\n",
       "      <td>R$ 687.889,44</td>\n",
       "      <td>1,00</td>\n",
       "      <td>Concluído</td>\n",
       "    </tr>\n",
       "    <tr>\n",
       "      <th>2</th>\n",
       "      <td>3 - EQUIPE DE CAMPO</td>\n",
       "      <td>NaN</td>\n",
       "      <td>NaN</td>\n",
       "      <td>107.0</td>\n",
       "      <td>01/06/2023</td>\n",
       "      <td>31/10/2023</td>\n",
       "      <td>100,00%</td>\n",
       "      <td>R$ 687.889,44</td>\n",
       "      <td>100,00%</td>\n",
       "      <td>R$ 687.889,44</td>\n",
       "      <td>1,00</td>\n",
       "      <td>Concluído</td>\n",
       "    </tr>\n",
       "    <tr>\n",
       "      <th>3</th>\n",
       "      <td>4 - Gerente de obra (GO)</td>\n",
       "      <td>6,0000</td>\n",
       "      <td>vb</td>\n",
       "      <td>107.0</td>\n",
       "      <td>01/06/2023</td>\n",
       "      <td>31/10/2023</td>\n",
       "      <td>100,00%</td>\n",
       "      <td>R$ 196.939,44</td>\n",
       "      <td>100,00%</td>\n",
       "      <td>R$ 196.939,44</td>\n",
       "      <td>1,00</td>\n",
       "      <td>Concluído</td>\n",
       "    </tr>\n",
       "    <tr>\n",
       "      <th>4</th>\n",
       "      <td>5 - Mestre de obras</td>\n",
       "      <td>6,0000</td>\n",
       "      <td>vb</td>\n",
       "      <td>107.0</td>\n",
       "      <td>01/06/2023</td>\n",
       "      <td>31/10/2023</td>\n",
       "      <td>100,00%</td>\n",
       "      <td>R$ 185.986,38</td>\n",
       "      <td>100,00%</td>\n",
       "      <td>R$ 185.986,38</td>\n",
       "      <td>1,00</td>\n",
       "      <td>Concluído</td>\n",
       "    </tr>\n",
       "  </tbody>\n",
       "</table>\n",
       "</div>"
      ],
      "text/plain": [
       "                       Tarefa Quant. planejada Unidade  Duração (dias)  \\\n",
       "0  1 - OBRA DE INFRAESTRUTURA              NaN     NaN           638.0   \n",
       "1   2 - ADMINISTRAÇÃO DA OBRA              NaN     NaN           107.0   \n",
       "2         3 - EQUIPE DE CAMPO              NaN     NaN           107.0   \n",
       "3    4 - Gerente de obra (GO)           6,0000      vb           107.0   \n",
       "4         5 - Mestre de obras           6,0000      vb           107.0   \n",
       "\n",
       "       Início     Término Previsto    Valor previsto   Medido  \\\n",
       "0  03/04/2023  30/09/2025   90,75%  R$ 16.830.985,15   92,81%   \n",
       "1  01/06/2023  31/10/2023  100,00%     R$ 687.889,44  100,00%   \n",
       "2  01/06/2023  31/10/2023  100,00%     R$ 687.889,44  100,00%   \n",
       "3  01/06/2023  31/10/2023  100,00%     R$ 196.939,44  100,00%   \n",
       "4  01/06/2023  31/10/2023  100,00%     R$ 185.986,38  100,00%   \n",
       "\n",
       "       Valor medido   IDP     Status  \n",
       "0  R$ 17.212.824,78  1,02     Em dia  \n",
       "1     R$ 687.889,44  1,00  Concluído  \n",
       "2     R$ 687.889,44  1,00  Concluído  \n",
       "3     R$ 196.939,44  1,00  Concluído  \n",
       "4     R$ 185.986,38  1,00  Concluído  "
      ]
     },
     "execution_count": 166,
     "metadata": {},
     "output_type": "execute_result"
    }
   ],
   "source": [
    "dataset_clean.head()"
   ]
  },
  {
   "cell_type": "code",
   "execution_count": null,
   "id": "fc1b1f60-38b6-4888-ab08-5a8d5fdbddad",
   "metadata": {},
   "outputs": [],
   "source": []
  }
 ],
 "metadata": {
  "kernelspec": {
   "display_name": "Python [conda env:meu_ambiente]",
   "language": "python",
   "name": "conda-env-meu_ambiente-py"
  },
  "language_info": {
   "codemirror_mode": {
    "name": "ipython",
    "version": 3
   },
   "file_extension": ".py",
   "mimetype": "text/x-python",
   "name": "python",
   "nbconvert_exporter": "python",
   "pygments_lexer": "ipython3",
   "version": "3.8.20"
  }
 },
 "nbformat": 4,
 "nbformat_minor": 5
}
