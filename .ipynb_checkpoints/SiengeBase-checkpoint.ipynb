{
 "cells": [
  {
   "cell_type": "markdown",
   "id": "554e5374-f5f6-4f3c-8c05-f5afe2265e5c",
   "metadata": {},
   "source": [
    "Projetc"
   ]
  },
  {
   "cell_type": "code",
   "execution_count": 1,
   "id": "906f547d-5686-41cd-ae3c-ba5a0fb39a9a",
   "metadata": {},
   "outputs": [],
   "source": [
    "import math\n",
    "import sys, os\n",
    "import numpy as np\n",
    "import pandas as pd\n",
    "import openpyxl "
   ]
  },
  {
   "cell_type": "code",
   "execution_count": 7,
   "id": "8bb6c99d-44ea-454f-a8db-2720d7448e62",
   "metadata": {},
   "outputs": [],
   "source": [
    "\n",
    "sys.path.append(os.path.abspath(os.path.join('modulos')))\n",
    "from estrategia1 import * # o Asteriscos importa tudo que estra dentro no Modulo! \n",
    "from estrategia2 import * # o Asteriscos importa tudo que estra dentro no Modulo! \n",
    "from estrategia3 import * # o Asteriscos importa tudo que estra dentro no Modulo! \n",
    "from openpyxl import load_workbook\n"
   ]
  },
  {
   "cell_type": "code",
   "execution_count": 12,
   "id": "30873086-73dd-4e50-a321-d350bba4b072",
   "metadata": {},
   "outputs": [],
   "source": [
    "pd.set_option('display.max_columns', 50)"
   ]
  },
  {
   "cell_type": "markdown",
   "id": "fd259127-1083-4d85-921d-bbe8fe727d54",
   "metadata": {},
   "source": [
    "## Carregando os Dados\n",
    "\n",
    "https://pandas.pydata.org/docs/reference/api/pandas.read_csv.html"
   ]
  },
  {
   "cell_type": "code",
   "execution_count": 28,
   "id": "f6180411-a2c9-44eb-bfe4-670bbf90d71d",
   "metadata": {},
   "outputs": [],
   "source": [
    "# Criamos uma lista para identificar valores ausentes\n",
    "lista_labels_valores_ausentes = [\"n/a\", \"na\", \"undefined\"]"
   ]
  },
  {
   "cell_type": "code",
   "execution_count": 30,
   "id": "403f1822-e1a0-4078-93b2-b5e8677a72d4",
   "metadata": {},
   "outputs": [
    {
     "ename": "TypeError",
     "evalue": "func_calc_percentual_valores_ausentes() got an unexpected keyword argument 'na_values'",
     "output_type": "error",
     "traceback": [
      "\u001b[1;31m---------------------------------------------------------------------------\u001b[0m",
      "\u001b[1;31mTypeError\u001b[0m                                 Traceback (most recent call last)",
      "Cell \u001b[1;32mIn[30], line 2\u001b[0m\n\u001b[0;32m      1\u001b[0m \u001b[38;5;66;03m# Criamos uma lista para identificar valores ausentes\u001b[39;00m\n\u001b[1;32m----> 2\u001b[0m \u001b[43mfunc_calc_percentual_valores_ausentes\u001b[49m\u001b[43m(\u001b[49m\u001b[38;5;124;43m'\u001b[39;49m\u001b[38;5;124;43mDashboardGestaoObra.csv\u001b[39;49m\u001b[38;5;124;43m'\u001b[39;49m\u001b[43m,\u001b[49m\u001b[43m \u001b[49m\u001b[43mna_values\u001b[49m\u001b[43m \u001b[49m\u001b[38;5;241;43m=\u001b[39;49m\u001b[43m \u001b[49m\u001b[43mfunc_calc_percentual_valores_ausentes\u001b[49m\u001b[43m)\u001b[49m\n",
      "\u001b[1;31mTypeError\u001b[0m: func_calc_percentual_valores_ausentes() got an unexpected keyword argument 'na_values'"
     ]
    }
   ],
   "source": [
    "# Criamos uma lista para identificar valores ausentes\n",
    "func_calc_percentual_valores_ausentes('DashboardGestaoObra.csv', na_values = func_calc_percentual_valores_ausentes) "
   ]
  },
  {
   "cell_type": "code",
   "execution_count": null,
   "id": "0d11a3f1-f504-4bc3-97ec-d347d7b677c0",
   "metadata": {},
   "outputs": [],
   "source": []
  },
  {
   "cell_type": "code",
   "execution_count": null,
   "id": "af64a766-421d-4fcd-8a3e-b2355bd6121a",
   "metadata": {},
   "outputs": [],
   "source": []
  },
  {
   "cell_type": "code",
   "execution_count": null,
   "id": "f8a33479-6b4c-4943-a29c-bed999a7d244",
   "metadata": {},
   "outputs": [],
   "source": []
  },
  {
   "cell_type": "code",
   "execution_count": null,
   "id": "bc9fc144-6afe-4a2b-a756-213aa911f760",
   "metadata": {},
   "outputs": [],
   "source": []
  }
 ],
 "metadata": {
  "kernelspec": {
   "display_name": "Python [conda env:meu_ambiente]",
   "language": "python",
   "name": "conda-env-meu_ambiente-py"
  },
  "language_info": {
   "codemirror_mode": {
    "name": "ipython",
    "version": 3
   },
   "file_extension": ".py",
   "mimetype": "text/x-python",
   "name": "python",
   "nbconvert_exporter": "python",
   "pygments_lexer": "ipython3",
   "version": "3.8.20"
  }
 },
 "nbformat": 4,
 "nbformat_minor": 5
}
