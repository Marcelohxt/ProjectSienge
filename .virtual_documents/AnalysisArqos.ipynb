


!pip install -q -U watermark


!pip install -q missingno


!pip install -q category_encoders


!pip install -q plotly


import pandas as pd
import numpy as np
import os 


import matplotlib.pyplot as plt 
import seaborn as sns 
import plotly.express as px
import plotly.graph_objects as go
from plotly.subplots import make_subplots
import missingno

import math
import sys, os
import numpy as np
import pandas as pd
import openpyxl 

import scipy
from scipy.stats import normaltest
from scipy.stats import chi2_contingency

from sklearn.pipeline import Pipeline 
from sklearn.impute import SimpleImputer
from sklearn.preprocessing import OneHotEncoder, LabelEncoder, OrdinalEncoder
from sklearn.compose import ColumnTransformer
import category_encoders as ce

import sys
import warnings
if not sys.warnoptions:
    warnings.simplefilter("ignore")







df = pd.read_csv("DashboardGestaoObra.csv")



