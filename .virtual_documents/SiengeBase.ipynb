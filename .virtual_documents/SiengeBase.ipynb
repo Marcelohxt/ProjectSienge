


import math
import sys, os
import numpy as np
import pandas as pd
import openpyxl 



sys.path.append(os.path.abspath(os.path.join('modulos')))
from estrategia1 import * # o Asteriscos importa tudo que estra dentro no Modulo! 
from estrategia2 import * # o Asteriscos importa tudo que estra dentro no Modulo! 
from estrategia3 import * # o Asteriscos importa tudo que estra dentro no Modulo! 
from openpyxl import load_workbook



pd.set_option('display.max_columns', 50)





# Criamos uma lista para identificar valores ausentes
lista_labels_valores_ausentes = ["n/a", "na", "undefined"]


# Criamos uma lista para identificar valores ausentes
dataset = pd.read_csv('DashboardGestaoObra.csv', sep=';', na_values=func_calc_percentual_valores_ausentes)



dataset.shape


dataset.head()





dataset.info()


dataset.describe()


dataset.shape


dataset.columns.tolist()


# Verifica o percentual de valores ausentes
# Função do módulo estratégia 1
func_calc_percentual_valores_ausentes(dataset)


# Cria tabela com valores ausentes
df_missing = func_calc_percentual_valores_ausentes_coluna(dataset)


df_missing


colunas_para_remover = df_missing[df_missing['% de Valores Ausentes'] >= 30.00].index.tolist()


colunas_para_remover


colunas_para_remover = [col for col in colunas_para_remover if col not in ['Valor medido']]


colunas_para_remover


dataset_clean = dataset.drop(colunas_para_remover, axis = 1)


dataset_clean.shape


func_calc_percentual_valores_ausentes(dataset_clean)


func_calc_percentual_valores_ausentes_coluna(dataset_clean)


dataset_clean.head()



