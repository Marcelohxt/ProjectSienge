


import math
import sys, os
import numpy as np
import pandas as pd
import openpyxl 
import plotly.express as px
import matplotlib.pyplot as plt
import matplotlib.cm as cm
import seaborn as sns



sys.path.append(os.path.abspath(os.path.join('modulos')))
from estrategia1 import * # o Asteriscos importa tudo que estra dentro no Modulo! 
from estrategia2 import * # o Asteriscos importa tudo que estra dentro no Modulo! 
from estrategia3 import * # o Asteriscos importa tudo que estra dentro no Modulo! 
from openpyxl import load_workbook



pd.set_option('display.max_columns', 50)





# Criamos uma lista para identificar valores ausentes
lista_labels_valores_ausentes = ["n/a", "na", "NaN", "undefined"]


# Criamos uma lista para identificar valores ausentes
dataset = pd.read_csv('DashboardGestaoObra.csv', sep=';', na_values=func_calc_percentual_valores_ausentes)



dataset.shape


dataset.head()





dataset.info()


dataset.describe()


dataset.shape


dataset.columns.tolist()


# Verifica o percentual de valores ausentes
# Função do módulo estratégia 1
func_calc_percentual_valores_ausentes(dataset)


# Cria tabela com valores ausentes
df_missing = func_calc_percentual_valores_ausentes_coluna(dataset)


df_missing


colunas_para_remover = df_missing[df_missing['% de Valores Ausentes'] >= 30.00].index.tolist()


colunas_para_remover


colunas_para_remover = [col for col in colunas_para_remover if col not in ['Valor medido']]


colunas_para_remover


dataset_clean = dataset.drop(colunas_para_remover, axis = 1)


dataset_clean.shape


func_calc_percentual_valores_ausentes(dataset_clean)


func_calc_percentual_valores_ausentes_coluna(dataset_clean)


df = dataset_clean.head()


dataset_clean.head()


df.columns


dict = list(df.columns.values)[3:12]


# Use a variável dict no método get_dummies
df = pd.get_dummies(df, columns=dict, drop_first=True)

# Exibe o DataFrame resultante
print(df)



# Tamanho da figura (aumentado para evitar o erro)
fig = plt.figure(figsize=(18, 40), constrained_layout=True)  

# Lista de colunas
column_list = list(df.columns.values)[3:12]

# Contador
A = 0

# Loop para criar os gráficos
for i in column_list:
    A += 1
    plt.subplot(5, 2, A)
    
    # Conta a frequência dos valores na coluna
    value_counts = df[i].fillna('NaN').value_counts()
    
    # Converte o mapa de cores para lista
    colors = cm.viridis(np.linspace(0, 1, len(value_counts))).tolist()
    
    # Plota o gráfico com as cores personalizadas
    ax = sns.barplot(x=value_counts.index, y=value_counts.values, palette=colors, hue=value_counts.index, legend=False)
    
    # Título do gráfico
    plt.title(i, fontsize=15)
    
    # Adiciona os valores acima das barras
    for p in ax.patches:
        ax.annotate(f'\n{p.get_height()}', (p.get_x() + p.get_width() / 2, p.get_height()), 
                    ha='center', color='black', size=12)
    
    # Rotação dos rótulos do eixo X para melhorar a leitura
    if A >= 7:
        plt.xticks(rotation=45)

# Mostra o gráfico
plt.show()


print(df.columns)



df.columns = df.columns.str.strip()  # Remove espaços extras
df.columns = df.columns.str.replace('ã', 'a').str.replace('ç', 'c')  # Remova acentos se necessário



colunas_para_converter = ['Quant. planejada', 'Duracao (dias)', 'Valor previsto', 'Medido', 'Valor medido', 'IDP']



for coluna in colunas_para_converter:
    if coluna in df.columns:
        df[coluna] = pd.to_numeric(df[coluna], errors='coerce')
    else:
        print(f"A coluna '{coluna}' não foi encontrada no DataFrame.")



print(df.columns.tolist())



import re

# Dicionário para mapear nomes antigos para novos
colunas_corrigidas = {}
for col in df.columns:
    nome_limpo = re.sub(r'_[^_]+$', '', col)  # Remove o sufixo após o último "_"
    nome_limpo = nome_limpo.replace('R$\xa0', '').strip()  # Remove "R$" e espaços extras
    colunas_corrigidas[col] = nome_limpo

# Renomeia as colunas
df.rename(columns=colunas_corrigidas, inplace=True)

# Mostra os novos nomes das colunas
print(df.columns.tolist())



print(df.columns.tolist())



dataset.head()









